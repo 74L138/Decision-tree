{
 "cells": [
  {
   "cell_type": "code",
   "execution_count": 2,
   "metadata": {},
   "outputs": [
    {
     "name": "stdout",
     "output_type": "stream",
     "text": [
      "0.9975025463691153\n"
     ]
    }
   ],
   "source": [
    "import gain\n",
    "fr = open(r'xigua2.txt')\n",
    "listWm = [i.strip().split(',') for i in fr.readlines()]\n",
    "print(gain.calcShannonEnt(listWm))"
   ]
  },
  {
   "cell_type": "code",
   "execution_count": 9,
   "outputs": [
    {
     "name": "stdout",
     "output_type": "stream",
     "text": [
      "[['硬滑' '硬滑' '硬滑' '硬滑' '硬滑' '软粘' '软粘' '硬滑']\n",
      " ['凹陷' '凹陷' '凹陷' '凹陷' '凹陷' '稍凹' '稍凹' '稍凹']\n",
      " ['清晰' '清晰' '清晰' '清晰' '清晰' '清晰' '稍糊' '清晰']\n",
      " ['浊响' '沉闷' '浊响' '沉闷' '浊响' '浊响' '浊响' '浊响']\n",
      " ['蜷缩' '蜷缩' '蜷缩' '蜷缩' '蜷缩' '稍蜷' '稍蜷' '稍蜷']\n",
      " ['青绿' '乌黑' '乌黑' '青绿' '浅白' '青绿' '乌黑' '乌黑']]\n"
     ]
    }
   ],
   "source": [
    "import numpy as np\n",
    "print(np.rot90(gain.splitDataSet(listWm,6,'是')))"
   ],
   "metadata": {
    "collapsed": false,
    "pycharm": {
     "name": "#%%\n"
    }
   }
  },
  {
   "cell_type": "code",
   "execution_count": 10,
   "outputs": [
    {
     "name": "stdout",
     "output_type": "stream",
     "text": [
      "3\n"
     ]
    }
   ],
   "source": [
    "print(gain.chooseBestFeatureToSplit(listWm))"
   ],
   "metadata": {
    "collapsed": false,
    "pycharm": {
     "name": "#%%\n"
    }
   }
  },
  {
   "cell_type": "code",
   "execution_count": 12,
   "outputs": [
    {
     "name": "stdout",
     "output_type": "stream",
     "text": [
      "3\n"
     ]
    }
   ],
   "source": [
    "import C45\n",
    "print(C45.chooseBestFeatureToSplit(listWm))"
   ],
   "metadata": {
    "collapsed": false,
    "pycharm": {
     "name": "#%%\n"
    }
   }
  },
  {
   "cell_type": "code",
   "execution_count": 13,
   "outputs": [
    {
     "name": "stdout",
     "output_type": "stream",
     "text": [
      "{'纹理': {'清晰': {'根蒂': {'稍蜷': {'色泽': {'乌黑': {'触感': {'软粘': '否', '硬滑': '是'}}, '青绿': '是'}}, '硬挺': '否', '蜷缩': '是'}}, '稍糊': {'触感': {'软粘': '是', '硬滑': '否'}}, '模糊': '否'}}\n"
     ]
    }
   ],
   "source": [
    "labels = ['色泽', '根蒂', '敲声', '纹理', '脐部', '触感']\n",
    "print(gain.createTree(listWm,labels))"
   ],
   "metadata": {
    "collapsed": false,
    "pycharm": {
     "name": "#%%\n"
    }
   }
  },
  {
   "cell_type": "code",
   "execution_count": null,
   "metadata": {},
   "outputs": [],
   "source": []
  }
 ],
 "metadata": {
  "kernelspec": {
   "display_name": "Python 3",
   "language": "python",
   "name": "python3"
  },
  "language_info": {
   "codemirror_mode": {
    "name": "ipython",
    "version": 3
   },
   "file_extension": ".py",
   "mimetype": "text/x-python",
   "name": "python",
   "nbconvert_exporter": "python",
   "pygments_lexer": "ipython3",
   "version": "3.7.7"
  }
 },
 "nbformat": 4,
 "nbformat_minor": 1
}